{
 "cells": [
  {
   "cell_type": "markdown",
   "id": "eaafcd06-dbf5-4e95-8ece-d13f699be743",
   "metadata": {},
   "source": [
    "# JP Morgan Quantitative Research Task 2"
   ]
  },
  {
   "cell_type": "code",
   "execution_count": 1,
   "id": "f07a3fba-993b-4f6c-b92a-40004e894bfc",
   "metadata": {},
   "outputs": [],
   "source": [
    "import matplotlib.pyplot as plt\n",
    "import numpy as np\n",
    "import pandas as pd\n",
    "from scipy import stats\n",
    "from sklearn.preprocessing import OneHotEncoder\n",
    "from sklearn.preprocessing import PolynomialFeatures\n",
    "from sklearn.linear_model import RidgeCV\n",
    "import datetime\n",
    "from dateutil.relativedelta import relativedelta\n",
    "from pandas import Timestamp"
   ]
  },
  {
   "cell_type": "code",
   "execution_count": 2,
   "id": "47c78200-341e-4121-9ad1-5f2eacb91ee5",
   "metadata": {},
   "outputs": [
    {
     "data": {
      "text/plain": [
       "(48, 2)"
      ]
     },
     "metadata": {},
     "output_type": "display_data"
    },
    {
     "data": {
      "text/html": [
       "<div>\n",
       "<style scoped>\n",
       "    .dataframe tbody tr th:only-of-type {\n",
       "        vertical-align: middle;\n",
       "    }\n",
       "\n",
       "    .dataframe tbody tr th {\n",
       "        vertical-align: top;\n",
       "    }\n",
       "\n",
       "    .dataframe thead th {\n",
       "        text-align: right;\n",
       "    }\n",
       "</style>\n",
       "<table border=\"1\" class=\"dataframe\">\n",
       "  <thead>\n",
       "    <tr style=\"text-align: right;\">\n",
       "      <th></th>\n",
       "      <th>Prices</th>\n",
       "    </tr>\n",
       "    <tr>\n",
       "      <th>Dates</th>\n",
       "      <th></th>\n",
       "    </tr>\n",
       "  </thead>\n",
       "  <tbody>\n",
       "    <tr>\n",
       "      <th>2020-10-31</th>\n",
       "      <td>10.1</td>\n",
       "    </tr>\n",
       "    <tr>\n",
       "      <th>2020-11-30</th>\n",
       "      <td>10.3</td>\n",
       "    </tr>\n",
       "    <tr>\n",
       "      <th>2020-12-31</th>\n",
       "      <td>11.0</td>\n",
       "    </tr>\n",
       "    <tr>\n",
       "      <th>2021-01-31</th>\n",
       "      <td>10.9</td>\n",
       "    </tr>\n",
       "    <tr>\n",
       "      <th>2021-02-28</th>\n",
       "      <td>10.9</td>\n",
       "    </tr>\n",
       "  </tbody>\n",
       "</table>\n",
       "</div>"
      ],
      "text/plain": [
       "            Prices\n",
       "Dates             \n",
       "2020-10-31    10.1\n",
       "2020-11-30    10.3\n",
       "2020-12-31    11.0\n",
       "2021-01-31    10.9\n",
       "2021-02-28    10.9"
      ]
     },
     "metadata": {},
     "output_type": "display_data"
    }
   ],
   "source": [
    "# Reading data and converting datatype\n",
    "df = pd.read_csv(\"Nat_Gas.csv\")\n",
    "display(df.shape)\n",
    "df.index = pd.to_datetime(df[\"Dates\"])\n",
    "df = df.drop(columns=['Dates'])\n",
    "display(df.head())\n",
    "df_exist_dict = df.to_dict()[\"Prices\"]\n",
    "# display(df_exist_dict)"
   ]
  },
  {
   "cell_type": "code",
   "execution_count": 3,
   "id": "94fb99cf-cac1-4995-8659-1226e5970f2d",
   "metadata": {},
   "outputs": [
    {
     "data": {
      "text/html": [
       "<div>\n",
       "<style scoped>\n",
       "    .dataframe tbody tr th:only-of-type {\n",
       "        vertical-align: middle;\n",
       "    }\n",
       "\n",
       "    .dataframe tbody tr th {\n",
       "        vertical-align: top;\n",
       "    }\n",
       "\n",
       "    .dataframe thead th {\n",
       "        text-align: right;\n",
       "    }\n",
       "</style>\n",
       "<table border=\"1\" class=\"dataframe\">\n",
       "  <thead>\n",
       "    <tr style=\"text-align: right;\">\n",
       "      <th></th>\n",
       "      <th>Dates</th>\n",
       "      <th>Prices</th>\n",
       "    </tr>\n",
       "  </thead>\n",
       "  <tbody>\n",
       "    <tr>\n",
       "      <th>36</th>\n",
       "      <td>10/31/23</td>\n",
       "      <td>11.8</td>\n",
       "    </tr>\n",
       "    <tr>\n",
       "      <th>37</th>\n",
       "      <td>11/30/23</td>\n",
       "      <td>12.2</td>\n",
       "    </tr>\n",
       "    <tr>\n",
       "      <th>38</th>\n",
       "      <td>12/31/23</td>\n",
       "      <td>12.8</td>\n",
       "    </tr>\n",
       "    <tr>\n",
       "      <th>39</th>\n",
       "      <td>1/31/24</td>\n",
       "      <td>12.6</td>\n",
       "    </tr>\n",
       "    <tr>\n",
       "      <th>40</th>\n",
       "      <td>2/29/24</td>\n",
       "      <td>12.4</td>\n",
       "    </tr>\n",
       "    <tr>\n",
       "      <th>41</th>\n",
       "      <td>3/31/24</td>\n",
       "      <td>12.7</td>\n",
       "    </tr>\n",
       "    <tr>\n",
       "      <th>42</th>\n",
       "      <td>4/30/24</td>\n",
       "      <td>12.1</td>\n",
       "    </tr>\n",
       "    <tr>\n",
       "      <th>43</th>\n",
       "      <td>5/31/24</td>\n",
       "      <td>11.4</td>\n",
       "    </tr>\n",
       "    <tr>\n",
       "      <th>44</th>\n",
       "      <td>6/30/24</td>\n",
       "      <td>11.5</td>\n",
       "    </tr>\n",
       "    <tr>\n",
       "      <th>45</th>\n",
       "      <td>7/31/24</td>\n",
       "      <td>11.6</td>\n",
       "    </tr>\n",
       "    <tr>\n",
       "      <th>46</th>\n",
       "      <td>8/31/24</td>\n",
       "      <td>11.5</td>\n",
       "    </tr>\n",
       "    <tr>\n",
       "      <th>47</th>\n",
       "      <td>9/30/24</td>\n",
       "      <td>11.8</td>\n",
       "    </tr>\n",
       "  </tbody>\n",
       "</table>\n",
       "</div>"
      ],
      "text/plain": [
       "       Dates  Prices\n",
       "36  10/31/23    11.8\n",
       "37  11/30/23    12.2\n",
       "38  12/31/23    12.8\n",
       "39   1/31/24    12.6\n",
       "40   2/29/24    12.4\n",
       "41   3/31/24    12.7\n",
       "42   4/30/24    12.1\n",
       "43   5/31/24    11.4\n",
       "44   6/30/24    11.5\n",
       "45   7/31/24    11.6\n",
       "46   8/31/24    11.5\n",
       "47   9/30/24    11.8"
      ]
     },
     "metadata": {},
     "output_type": "display_data"
    },
    {
     "name": "stdout",
     "output_type": "stream",
     "text": [
      "(12, 2)\n"
     ]
    }
   ],
   "source": [
    "df_new = pd.read_csv(\"Nat_Gas.csv\")[36:] # Last 12 months of data\n",
    "display(df_new)\n",
    "print(df_new.shape)\n",
    "df_new.index = [pd.to_datetime(x) + relativedelta(years=1) for x in df_new[\"Dates\"]] # Extrapolate for 1 year into the future\n",
    "\n",
    "df_new = df_new.drop(columns=['Dates', 'Prices'])\n",
    "df_new.index.name = \"Dates\""
   ]
  },
  {
   "cell_type": "code",
   "execution_count": 4,
   "id": "860c03dd-b797-48cc-94b4-635d024493f4",
   "metadata": {},
   "outputs": [],
   "source": [
    "enc = OneHotEncoder()\n",
    "X_year_month_onehot = np.hstack(\n",
    "    [\n",
    "        df.index.year.values.reshape(-1, 1),\n",
    "        enc.fit_transform(df.index.month.values.reshape(-1, 1)).toarray(),\n",
    "    ]\n",
    ")\n",
    "y = df.values"
   ]
  },
  {
   "cell_type": "code",
   "execution_count": 5,
   "id": "24b3e6d3-d1ac-42ca-b8ab-88bd44b532ff",
   "metadata": {},
   "outputs": [
    {
     "data": {
      "text/html": [
       "<div>\n",
       "<style scoped>\n",
       "    .dataframe tbody tr th:only-of-type {\n",
       "        vertical-align: middle;\n",
       "    }\n",
       "\n",
       "    .dataframe tbody tr th {\n",
       "        vertical-align: top;\n",
       "    }\n",
       "\n",
       "    .dataframe thead th {\n",
       "        text-align: right;\n",
       "    }\n",
       "</style>\n",
       "<table border=\"1\" class=\"dataframe\">\n",
       "  <thead>\n",
       "    <tr style=\"text-align: right;\">\n",
       "      <th></th>\n",
       "      <th>Prices</th>\n",
       "    </tr>\n",
       "    <tr>\n",
       "      <th>Dates</th>\n",
       "      <th></th>\n",
       "    </tr>\n",
       "  </thead>\n",
       "  <tbody>\n",
       "    <tr>\n",
       "      <th>2024-10-31</th>\n",
       "      <td>12.101660</td>\n",
       "    </tr>\n",
       "    <tr>\n",
       "      <th>2024-11-30</th>\n",
       "      <td>12.677377</td>\n",
       "    </tr>\n",
       "    <tr>\n",
       "      <th>2024-12-31</th>\n",
       "      <td>13.052808</td>\n",
       "    </tr>\n",
       "    <tr>\n",
       "      <th>2025-01-31</th>\n",
       "      <td>13.127239</td>\n",
       "    </tr>\n",
       "    <tr>\n",
       "      <th>2025-02-28</th>\n",
       "      <td>13.052062</td>\n",
       "    </tr>\n",
       "    <tr>\n",
       "      <th>2025-03-31</th>\n",
       "      <td>13.127252</td>\n",
       "    </tr>\n",
       "    <tr>\n",
       "      <th>2025-04-30</th>\n",
       "      <td>12.526510</td>\n",
       "    </tr>\n",
       "    <tr>\n",
       "      <th>2025-05-31</th>\n",
       "      <td>12.135981</td>\n",
       "    </tr>\n",
       "    <tr>\n",
       "      <th>2025-06-30</th>\n",
       "      <td>12.050865</td>\n",
       "    </tr>\n",
       "    <tr>\n",
       "      <th>2025-07-31</th>\n",
       "      <td>12.251138</td>\n",
       "    </tr>\n",
       "    <tr>\n",
       "      <th>2025-08-31</th>\n",
       "      <td>12.175974</td>\n",
       "    </tr>\n",
       "    <tr>\n",
       "      <th>2025-09-30</th>\n",
       "      <td>12.426361</td>\n",
       "    </tr>\n",
       "  </tbody>\n",
       "</table>\n",
       "</div>"
      ],
      "text/plain": [
       "               Prices\n",
       "Dates                \n",
       "2024-10-31  12.101660\n",
       "2024-11-30  12.677377\n",
       "2024-12-31  13.052808\n",
       "2025-01-31  13.127239\n",
       "2025-02-28  13.052062\n",
       "2025-03-31  13.127252\n",
       "2025-04-30  12.526510\n",
       "2025-05-31  12.135981\n",
       "2025-06-30  12.050865\n",
       "2025-07-31  12.251138\n",
       "2025-08-31  12.175974\n",
       "2025-09-30  12.426361"
      ]
     },
     "metadata": {},
     "output_type": "display_data"
    }
   ],
   "source": [
    "X_new = (df_new.index.astype(\"int64\").values.reshape(-1, 1) // 10 ** 9)\n",
    "\n",
    "X_new_year_month_onehot = np.hstack(\n",
    "    [\n",
    "        df_new.index.year.values.reshape(-1, 1),\n",
    "        enc.transform(df_new.index.month.values.reshape(-1, 1)).toarray(),\n",
    "    ]\n",
    ")\n",
    "poly_transformer = PolynomialFeatures(\n",
    "    interaction_only=True, include_bias=False\n",
    ")\n",
    "\n",
    "X_year_month_onehot_poly = poly_transformer.fit_transform(X_year_month_onehot)\n",
    "X_new_year_month_onehot_poly = poly_transformer.transform(X_new_year_month_onehot)\n",
    "\n",
    "lr_regressor_nolag = RidgeCV()\n",
    "lr_regressor_nolag.fit(X_year_month_onehot_poly, y)\n",
    "# display(X_year_month_onehot_poly.shape)\n",
    "df_new[\"Prices\"] = lr_regressor_nolag.predict(X_new_year_month_onehot_poly)\n",
    "display(df_new)"
   ]
  },
  {
   "cell_type": "code",
   "execution_count": 6,
   "id": "2f62a4cb-4e25-4839-8872-74825b11c033",
   "metadata": {},
   "outputs": [],
   "source": [
    "def pricepredict(datelist):\n",
    "    \"\"\"\n",
    "    Predict prices for given list of dates datelist, based on their month and year\n",
    "    \n",
    "    Parameters:\n",
    "    -----------\n",
    "    datelist : array-like\n",
    "        List of dates in the form %Y-%m-%d\n",
    "\n",
    "    Returns:\n",
    "    --------\n",
    "    Table of prices and their corresponding values\n",
    "    \"\"\"\n",
    "    list = pd.DatetimeIndex([pd.to_datetime(x) for x in datelist])\n",
    "    table = pd.DataFrame([], index = list, columns=['Prices'])\n",
    "    table.index.name = \"Dates\"\n",
    "    val = np.hstack(\n",
    "        [\n",
    "            table.index.year.values.reshape(-1, 1),\n",
    "            enc.transform(table.index.month.values.reshape(-1, 1)).toarray(),\n",
    "        ]\n",
    "    )\n",
    "    table[\"Prices\"] = lr_regressor_nolag.predict(poly_transformer.transform(val))\n",
    "    return table"
   ]
  },
  {
   "cell_type": "code",
   "execution_count": 7,
   "id": "84001c92-3f02-4660-aa59-e2855ce3add2",
   "metadata": {},
   "outputs": [
    {
     "data": {
      "text/html": [
       "<div>\n",
       "<style scoped>\n",
       "    .dataframe tbody tr th:only-of-type {\n",
       "        vertical-align: middle;\n",
       "    }\n",
       "\n",
       "    .dataframe tbody tr th {\n",
       "        vertical-align: top;\n",
       "    }\n",
       "\n",
       "    .dataframe thead th {\n",
       "        text-align: right;\n",
       "    }\n",
       "</style>\n",
       "<table border=\"1\" class=\"dataframe\">\n",
       "  <thead>\n",
       "    <tr style=\"text-align: right;\">\n",
       "      <th></th>\n",
       "      <th>Prices</th>\n",
       "    </tr>\n",
       "    <tr>\n",
       "      <th>Dates</th>\n",
       "      <th></th>\n",
       "    </tr>\n",
       "  </thead>\n",
       "  <tbody>\n",
       "    <tr>\n",
       "      <th>2024-10-31</th>\n",
       "      <td>12.101660</td>\n",
       "    </tr>\n",
       "    <tr>\n",
       "      <th>2025-10-31</th>\n",
       "      <td>12.642309</td>\n",
       "    </tr>\n",
       "  </tbody>\n",
       "</table>\n",
       "</div>"
      ],
      "text/plain": [
       "               Prices\n",
       "Dates                \n",
       "2024-10-31  12.101660\n",
       "2025-10-31  12.642309"
      ]
     },
     "metadata": {},
     "output_type": "display_data"
    },
    {
     "data": {
      "text/plain": [
       "12.101659571031632"
      ]
     },
     "metadata": {},
     "output_type": "display_data"
    },
    {
     "data": {
      "text/plain": [
       "{Timestamp('2024-10-31 00:00:00'): 12.101659571031632,\n",
       " Timestamp('2025-10-31 00:00:00'): 12.642308925048155}"
      ]
     },
     "metadata": {},
     "output_type": "display_data"
    },
    {
     "name": "stdout",
     "output_type": "stream",
     "text": [
      "[Timestamp('2024-10-31 00:00:00'), Timestamp('2025-10-31 00:00:00')]\n"
     ]
    }
   ],
   "source": [
    "v = pricepredict(['2024-10-31', \"2025-10-31\"])\n",
    "u = v.to_dict()[\"Prices\"]\n",
    "# w = list(v.index)\n",
    "display(v)\n",
    "display(v[\"Prices\"][0])\n",
    "display(u)\n",
    "# print(w)\n",
    "# print(min(w))\n",
    "list = [pd.to_datetime(x) for x in ['2024-10-31', \"2025-10-31\"]]\n",
    "print(list)"
   ]
  },
  {
   "cell_type": "code",
   "execution_count": 8,
   "id": "e3a04929-94ca-4d72-b878-5453fb74d100",
   "metadata": {},
   "outputs": [
    {
     "data": {
      "text/plain": [
       "[Timestamp('2024-10-31 00:00:00'), Timestamp('2024-10-31 00:00:00')]"
      ]
     },
     "execution_count": 8,
     "metadata": {},
     "output_type": "execute_result"
    }
   ],
   "source": [
    "[pd.to_datetime(Timestamp('2024-10-31 00:00:00')), Timestamp('2024-10-31 00:00:00')]"
   ]
  },
  {
   "cell_type": "code",
   "execution_count": 9,
   "id": "af35d85e-f384-422a-bce2-0c72c37dfebc",
   "metadata": {},
   "outputs": [
    {
     "name": "stdout",
     "output_type": "stream",
     "text": [
      "17\n"
     ]
    }
   ],
   "source": [
    "# Define the two dates\n",
    "date1 = datetime.date(2022, 1, 1)\n",
    "date2 = datetime.date(2023, 6, 1)\n",
    "\n",
    "# Calculate the number of months between the two dates\n",
    "months_between = 12 * relativedelta(date2, date1).years + relativedelta(date2, date1).months\n",
    "\n",
    "print(months_between)"
   ]
  },
  {
   "cell_type": "code",
   "execution_count": 10,
   "id": "768cfc5d-3633-4d07-945b-ae31bca22fb5",
   "metadata": {},
   "outputs": [],
   "source": [
    "# https://stackoverflow.com/questions/37297343/how-to-ensure-keys-or-values-are-of-a-specified-data-type-in-a-dict\n",
    "class mydict(dict):\n",
    "    def __setitem__(self, key, val):\n",
    "        if not isinstance(key, datetime):\n",
    "            raise ValueError(\"key must be datetime\")\n",
    "        if not isinstance(val, float): \n",
    "            raise ValueError(\"value must be float\") \n",
    "        dict.__setitem__(self, key, val)"
   ]
  },
  {
   "cell_type": "code",
   "execution_count": 11,
   "id": "d0a0ec9c-2765-4b9a-aebd-c51a7b995137",
   "metadata": {},
   "outputs": [
    {
     "data": {
      "text/plain": [
       "{Timestamp('2024-10-31 00:00:00'): 3}"
      ]
     },
     "execution_count": 11,
     "metadata": {},
     "output_type": "execute_result"
    }
   ],
   "source": [
    "a = mydict({pd.to_datetime('2024-10-31'):3})\n",
    "a"
   ]
  },
  {
   "cell_type": "code",
   "execution_count": 12,
   "id": "bd780b9b-8ffb-44ae-8bef-9e095a6aa9fb",
   "metadata": {},
   "outputs": [
    {
     "name": "stdout",
     "output_type": "stream",
     "text": [
      "{Timestamp('2024-10-31 00:00:00'): None}\n"
     ]
    }
   ],
   "source": [
    "b = mydict({Timestamp('2024-10-31 00:00:00'):3})\n",
    "dict = {key: None for key in b.keys()}\n",
    "print(dict)"
   ]
  },
  {
   "cell_type": "markdown",
   "id": "09b78465-da7f-4967-8ce6-7ffbd8d722e9",
   "metadata": {},
   "source": [
    "## Prototype Pricing Model"
   ]
  },
  {
   "cell_type": "code",
   "execution_count": 13,
   "id": "8382fcb1-2fd6-4ff2-8ec3-5ccab5bfaa15",
   "metadata": {},
   "outputs": [],
   "source": [
    "def contractprice(injewithdates, pricelist, gasrate, maxvol, storagecost):\n",
    "    \"\"\"\n",
    "    Given existing price data and input parameters, produce contract price. \n",
    "    Assumes that injection and withdrawal involve buying and selling of fuel respectively.\n",
    "    \n",
    "    Parameters:\n",
    "    -----------\n",
    "        \n",
    "    injewithdates: dictionary\n",
    "        Dictionary of injection and withdrawal dates (in the form %Y-%m-%d) and amounts.\n",
    "        Injections are positive, withdrawals are negative.\n",
    "        \n",
    "    pricelist: dataframe \n",
    "        Prices at which the commodity can be purchased/sold on those dates.\n",
    "\n",
    "    gasrate: float \n",
    "        Rate at which the gas can be injected/withdrawn.\n",
    "        \n",
    "    maxvol: float \n",
    "        Maximum volume that can be stored.\n",
    "        \n",
    "    storagecost: float\n",
    "        Fixed fees per month for storing.\n",
    "\n",
    "    Returns:\n",
    "    --------\n",
    "    Contract price. \n",
    "    \"\"\" \n",
    "\n",
    "    amount = 0\n",
    "    dict1 = {pd.to_datetime(key): value for key, value in injewithdates.items()}\n",
    "    dict2 = pricelist.to_dict()[\"Prices\"]\n",
    "    sumcosts = {key: None for key in dict1.keys()}\n",
    "    for k, v in dict1.items(): \n",
    "        if (v < 0) and (amount >= abs(v)): \n",
    "            amount -= v\n",
    "        elif ((amount + v) <= maxvol): \n",
    "            amount += v\n",
    "        else: \n",
    "            raise Exception(\"Invalid storage amount\")\n",
    "        \n",
    "        if k in df_exist_dict: \n",
    "            sumcosts[k] = v * dict2[k]\n",
    "        else: \n",
    "            sumcosts[k] = v * pricepredict([k])[\"Prices\"][0]\n",
    "\n",
    "    display(sumcosts)\n",
    "    finalexchanges = sum(sumcosts.values())\n",
    "    date1 = min(dict1.keys())\n",
    "    date2 = max(dict1.keys())\n",
    "    nummonths = 12 * relativedelta(date2, date1).years + relativedelta(date2, date1).months\n",
    "    \n",
    "    totalgasprice = gasrate * sum(abs(number) for number in dict1.values())\n",
    "    total_storagecost = storagecost * nummonths\n",
    "    \n",
    "    final_price = finalexchanges - totalgasprice - total_storagecost\n",
    "    return final_price"
   ]
  },
  {
   "cell_type": "code",
   "execution_count": 14,
   "id": "ef538379-6ea6-4563-a293-d6892cb4b41b",
   "metadata": {},
   "outputs": [
    {
     "data": {
      "text/plain": [
       "{Timestamp('2022-10-31 00:00:00'): 330.0,\n",
       " Timestamp('2023-06-30 00:00:00'): -436.0,\n",
       " Timestamp('2023-10-31 00:00:00'): 118.0}"
      ]
     },
     "metadata": {},
     "output_type": "display_data"
    },
    {
     "data": {
      "text/plain": [
       "10.0"
      ]
     },
     "execution_count": 14,
     "metadata": {},
     "output_type": "execute_result"
    }
   ],
   "source": [
    "injewithdates = {\"2022-10-31\":30,\"2023-06-30\":-40,\"2023-10-31\":10}\n",
    "contractprice(injewithdates, df, 0.01, 50, 0.1)"
   ]
  },
  {
   "cell_type": "code",
   "execution_count": null,
   "id": "7f33002a-c23d-49c6-bba1-542d8e1c221c",
   "metadata": {},
   "outputs": [],
   "source": []
  }
 ],
 "metadata": {
  "kernelspec": {
   "display_name": "Python [conda env:base] *",
   "language": "python",
   "name": "conda-base-py"
  },
  "language_info": {
   "codemirror_mode": {
    "name": "ipython",
    "version": 3
   },
   "file_extension": ".py",
   "mimetype": "text/x-python",
   "name": "python",
   "nbconvert_exporter": "python",
   "pygments_lexer": "ipython3",
   "version": "3.11.9"
  }
 },
 "nbformat": 4,
 "nbformat_minor": 5
}
