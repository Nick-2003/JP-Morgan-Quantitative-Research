{
 "cells": [
  {
   "cell_type": "markdown",
   "id": "4e081c37-1e28-4dc0-9014-f2d55632df0e",
   "metadata": {},
   "source": [
    "# JPMC_Task 3_Example Answer"
   ]
  },
  {
   "cell_type": "code",
   "execution_count": 1,
   "id": "d87d7a3a-a14b-4055-bb21-2eedbe47e376",
   "metadata": {},
   "outputs": [
    {
     "name": "stderr",
     "output_type": "stream",
     "text": [
      "/Users/student/anaconda3/lib/python3.11/site-packages/pandas/core/arrays/masked.py:60: UserWarning: Pandas requires version '1.3.6' or newer of 'bottleneck' (version '1.3.5' currently installed).\n",
      "  from pandas.core import (\n"
     ]
    }
   ],
   "source": [
    "from sklearn.linear_model import LogisticRegression\n",
    "from sklearn import metrics\n",
    "import numpy as np\n",
    "import pandas as pd\n",
    "import matplotlib.pyplot as plt\n",
    "from sklearn.metrics import roc_auc_score"
   ]
  },
  {
   "cell_type": "code",
   "execution_count": 2,
   "id": "85de96ce-bc9d-49c2-9a79-3c5f5646038d",
   "metadata": {},
   "outputs": [],
   "source": [
    "# Read in loan data from a CSV file\n",
    "df = pd.read_csv('Task 3 and 4_Loan_Data.csv')"
   ]
  },
  {
   "cell_type": "code",
   "execution_count": 3,
   "id": "8f3aeb6d-aca6-448a-8351-e9907a3e6abd",
   "metadata": {},
   "outputs": [],
   "source": [
    "# Define the variable features\n",
    "features = ['credit_lines_outstanding', 'debt_to_income', 'payment_to_income', 'years_employed', 'fico_score']"
   ]
  },
  {
   "cell_type": "code",
   "execution_count": 4,
   "id": "00ba9c1a-8bfb-4edf-bf5d-becb8a376537",
   "metadata": {},
   "outputs": [],
   "source": [
    "# Calculate the payment_to_income ratio\n",
    "df['payment_to_income'] = df['loan_amt_outstanding'] / df['income']\n",
    "    \n",
    "# Calculate the debt_to_income ratio\n",
    "df['debt_to_income'] = df['total_debt_outstanding'] / df['income']\n",
    "X, y = df[features], df['default']"
   ]
  },
  {
   "cell_type": "code",
   "execution_count": 5,
   "id": "d95bdf81-07b1-47ab-862d-2de728889763",
   "metadata": {},
   "outputs": [
    {
     "name": "stdout",
     "output_type": "stream",
     "text": [
      "[[ 8.18520373  0.54490854  0.01994244 -2.77630853 -0.02418391]] [-0.09162643]\n"
     ]
    }
   ],
   "source": [
    "# Regression model\n",
    "clf = LogisticRegression(random_state=0, solver='liblinear', tol=1e-5, max_iter=10000)\n",
    "clf.fit(X, y)\n",
    "print(clf.coef_, clf.intercept_)"
   ]
  },
  {
   "cell_type": "code",
   "execution_count": 6,
   "id": "50a55d41-3227-43ab-b3e1-126ca55e6b54",
   "metadata": {},
   "outputs": [
    {
     "name": "stdout",
     "output_type": "stream",
     "text": [
      "0.0037\n",
      "0.9925106069101026\n",
      "0.9999183229635983\n"
     ]
    }
   ],
   "source": [
    "# Use the following code to check yourself\n",
    "y_pred = clf.predict(X)\n",
    "\n",
    "fpr, tpr, thresholds = metrics.roc_curve(y, y_pred)\n",
    "print((1.0*(abs(y - y_pred)).sum()) / len(df)) # Means Square Error \n",
    "print(metrics.auc(fpr, tpr)) # Area under curve with metrics\n",
    "print(roc_auc_score(y, clf.predict_proba(X)[:, 1])) # Area under curve with sklearn.metrics"
   ]
  },
  {
   "cell_type": "code",
   "execution_count": 7,
   "id": "8f97224c-8a06-464b-9e32-ec6e217ddce1",
   "metadata": {},
   "outputs": [
    {
     "data": {
      "image/png": "[encoded data removed]",
      "text/plain": [
       "<Figure size 640x480 with 1 Axes>"
      ]
     },
     "metadata": {},
     "output_type": "display_data"
    }
   ],
   "source": [
    "plt.plot(fpr, tpr, label=\"ROC Curve\")\n",
    "plt.xlabel(\"FPR\")\n",
    "plt.ylabel(\"TPR (recall)\")\n",
    "default_threshold = np.argmin(np.abs(thresholds - 0.5))\n",
    "\n",
    "plt.plot(\n",
    "    fpr[default_threshold],\n",
    "    tpr[default_threshold],\n",
    "    \"or\",\n",
    "    markersize=10,\n",
    "    label=\"threshold 0.5\",\n",
    ")\n",
    "plt.legend(loc=\"best\");"
   ]
  },
  {
   "cell_type": "code",
   "execution_count": null,
   "id": "005f342b-a872-4137-9fc3-8b001f3e46e0",
   "metadata": {},
   "outputs": [],
   "source": []
  }
 ],
 "metadata": {
  "kernelspec": {
   "display_name": "Python [conda env:base] *",
   "language": "python",
   "name": "conda-base-py"
  },
  "language_info": {
   "codemirror_mode": {
    "name": "ipython",
    "version": 3
   },
   "file_extension": ".py",
   "mimetype": "text/x-python",
   "name": "python",
   "nbconvert_exporter": "python",
   "pygments_lexer": "ipython3",
   "version": "3.11.9"
  }
 },
 "nbformat": 4,
 "nbformat_minor": 5
}
