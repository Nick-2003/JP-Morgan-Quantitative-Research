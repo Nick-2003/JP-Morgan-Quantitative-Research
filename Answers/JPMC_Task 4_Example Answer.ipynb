{
 "cells": [
  {
   "cell_type": "markdown",
   "id": "7ccee898-14e1-4b94-bc0e-a1e7c6bcce20",
   "metadata": {},
   "source": [
    "# JPMC_Task 4_Example Answer"
   ]
  },
  {
   "cell_type": "code",
   "execution_count": 1,
   "id": "cee97153-030d-4554-8bf5-5c43a2eab099",
   "metadata": {},
   "outputs": [
    {
     "name": "stderr",
     "output_type": "stream",
     "text": [
      "/Users/student/anaconda3/lib/python3.11/site-packages/pandas/core/arrays/masked.py:60: UserWarning: Pandas requires version '1.3.6' or newer of 'bottleneck' (version '1.3.5' currently installed).\n",
      "  from pandas.core import (\n"
     ]
    }
   ],
   "source": [
    "import pandas as pd\n",
    "from math import log\n",
    "import os"
   ]
  },
  {
   "cell_type": "code",
   "execution_count": 2,
   "id": "965a7308-474a-4732-bcd6-df98c18736f4",
   "metadata": {},
   "outputs": [
    {
     "name": "stdout",
     "output_type": "stream",
     "text": [
      "Current working directory: /Users/student/Documents – SNG058/Self-Learning/Forage/JP Morgan Quantitative Research\n",
      "os.getcwd() returns an object of type <class 'str'>\n"
     ]
    }
   ],
   "source": [
    "cwd = os.getcwd()\n",
    "\n",
    "print(\"Current working directory: {0}\".format(cwd))\n",
    "\n",
    "print (\"os.getcwd() returns an object of type {0}\".format(type(cwd)))\n",
    "\n",
    "# copy the filepath \n",
    "os.chdir (\"/Users/student/Documents – SNG058/Self-Learning/Forage/JP Morgan Quantitative Research\")\n",
    "\n",
    "df = pd.read_csv('Task 3 and 4_Loan_Data.csv')"
   ]
  },
  {
   "cell_type": "code",
   "execution_count": 3,
   "id": "e2b374f3-4f47-42b4-b178-954ceb8a783f",
   "metadata": {},
   "outputs": [
    {
     "name": "stdout",
     "output_type": "stream",
     "text": [
      "10000 10000\n"
     ]
    }
   ],
   "source": [
    "x = df['default'].to_list()\n",
    "y = df['fico_score'].to_list()\n",
    "n = len(x)\n",
    "print (len(x), len(y))"
   ]
  },
  {
   "cell_type": "code",
   "execution_count": 4,
   "id": "5df73feb-ad2e-4cd6-8c01-987547c9668e",
   "metadata": {},
   "outputs": [],
   "source": [
    "default = [0 for i in range(851)]\n",
    "total = [0 for i in range(851)]\n",
    "\n",
    "for i in range(n):\n",
    "    y[i] = int(y[i])\n",
    "    default[y[i]-300] += x[i]\n",
    "    total[y[i]-300] += 1\n",
    "    \n",
    "for i in range(0, 551):\n",
    "    default[i] += default[i-1]\n",
    "    total[i] += total[i-1]"
   ]
  },
  {
   "cell_type": "code",
   "execution_count": 5,
   "id": "095e6699-9313-44ce-8020-7efcd495df58",
   "metadata": {},
   "outputs": [],
   "source": [
    "import numpy as np\n",
    "    \n",
    "def log_likelihood(n, k):\n",
    "    p = k/n\n",
    "    if (p==0 or p==1):\n",
    "        return 0\n",
    "    return k*np.log(p)+ (n-k)*np.log(1-p)"
   ]
  },
  {
   "cell_type": "code",
   "execution_count": 6,
   "id": "8fad35d6-61c2-4623-b45e-86b82e11f58f",
   "metadata": {},
   "outputs": [
    {
     "name": "stdout",
     "output_type": "stream",
     "text": [
      "-4217.8245\n"
     ]
    }
   ],
   "source": [
    "r = 10\n",
    "dp = [[[-10**18, 0] for i in range(551)] for j in range(r+1)]\n",
    "\n",
    "for i in range(r+1):\n",
    "    for j in range(551):\n",
    "        if (i==0):\n",
    "            dp[i][j][0] = 0\n",
    "        else:\n",
    "            for k in range(j):\n",
    "                if (total[j]==total[k]):\n",
    "                    continue\n",
    "                if (i==1):\n",
    "                    dp[i][j][0] = log_likelihood(total[j], default[j])\n",
    "                else:\n",
    "                    if (dp[i][j][0] < (dp[i-1][k][0] + log_likelihood(total[j]-total[k], default[j] - default[k]))):\n",
    "                        dp[i][j][0] = log_likelihood(total[j]-total[k], default[j]-default[k]) + dp[i-1][k][0]\n",
    "                        dp[i][j][1] = k\n",
    "                                                     \n",
    "print (round(dp[r][550][0], 4)) "
   ]
  },
  {
   "cell_type": "code",
   "execution_count": 7,
   "id": "7cb89885-b480-4131-857e-ec933bef3662",
   "metadata": {},
   "outputs": [
    {
     "name": "stdout",
     "output_type": "stream",
     "text": [
      "[850, 753, 752, 732, 696, 649, 611, 580, 552, 520, 300]\n"
     ]
    }
   ],
   "source": [
    "k = 550\n",
    "l = []\n",
    "while r >= 0:\n",
    "    l.append(k+300)\n",
    "    k = dp[r][k][1]\n",
    "    r -= 1\n",
    "\n",
    "print(l)"
   ]
  },
  {
   "cell_type": "markdown",
   "id": "752fe4fd-ebd6-4592-9ee7-ffc2856d69ee",
   "metadata": {},
   "source": [
    "The provided code performs data analysis by calculating the probability of default for a given set of observations. The technique used for this analysis is maximum likelihood estimation. The intuition behind the usage of maximum likelihood estimation is that it is a common method for estimating the parameters of a statistical model. In this case, the parameters are the probabilities of default for different sets of observations. Maximum likelihood estimation seeks to find the parameter values that maximize the likelihood function for the observed data.\n",
    "\n",
    "The code first reads in a CSV file using Pandas. It then creates two lists, `x` and `y`, that correspond to the 'observation' and 'rank' columns in the data, respectively. These lists are then used to calculate the default and total values for each rank in the data.\n",
    "\n",
    "The log-likelihood function is defined to calculate the likelihood of a given set of parameters. The likelihood function is used to calculate the probability of observing the data given the parameter values. The code then initializes a three-dimensional array, `dp`, that is used to store the calculated log-likelihood values for different sets of observations. The first dimension represents the number of iterations performed, the second dimension represents the rank of the observation, and the third dimension represents the log-likelihood and the index of the previous observation.\n",
    "\n",
    "Finally, the code calculates the log-likelihood for the given data set by using the `dp` array. It then prints the results and outputs the indices of the observations that were used in the calculation."
   ]
  },
  {
   "cell_type": "code",
   "execution_count": null,
   "id": "bbac8b1c-4951-4d5c-b71e-478f12292d3d",
   "metadata": {},
   "outputs": [],
   "source": []
  }
 ],
 "metadata": {
  "kernelspec": {
   "display_name": "Python [conda env:base] *",
   "language": "python",
   "name": "conda-base-py"
  },
  "language_info": {
   "codemirror_mode": {
    "name": "ipython",
    "version": 3
   },
   "file_extension": ".py",
   "mimetype": "text/x-python",
   "name": "python",
   "nbconvert_exporter": "python",
   "pygments_lexer": "ipython3",
   "version": "3.11.9"
  }
 },
 "nbformat": 4,
 "nbformat_minor": 5
}
